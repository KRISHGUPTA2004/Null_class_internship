{
  "nbformat": 4,
  "nbformat_minor": 0,
  "metadata": {
    "colab": {
      "provenance": [],
      "gpuType": "T4"
    },
    "kernelspec": {
      "name": "python3",
      "display_name": "Python 3"
    },
    "language_info": {
      "name": "python"
    },
    "accelerator": "GPU"
  },
  "cells": [
    {
      "cell_type": "code",
      "execution_count": 2,
      "metadata": {
        "id": "PjZR5iQkxb3g"
      },
      "outputs": [],
      "source": [
        "\n",
        "!pip install torchvision transformers datasets scikit-learn --quiet\n",
        "\n",
        "import torch\n",
        "import torch.nn as nn\n",
        "import torchvision\n",
        "import torchvision.transforms as transforms\n",
        "from torch.utils.data import DataLoader\n",
        "from torchvision.utils import save_image\n",
        "from sklearn.metrics import confusion_matrix, precision_score, recall_score, accuracy_score\n",
        "import os"
      ]
    },
    {
      "cell_type": "code",
      "source": [
        "# --- Self-Attention Layer ---\n",
        "class SelfAttention(nn.Module):\n",
        "    def __init__(self, in_dim):\n",
        "        super(SelfAttention, self).__init__()\n",
        "        self.query = nn.Conv2d(in_dim, in_dim // 8, 1)\n",
        "        self.key   = nn.Conv2d(in_dim, in_dim // 8, 1)\n",
        "        self.value = nn.Conv2d(in_dim, in_dim, 1)\n",
        "        self.gamma = nn.Parameter(torch.zeros(1))\n",
        "\n",
        "    def forward(self, x):\n",
        "        B, C, W, H = x.size()\n",
        "        proj_query = self.query(x).view(B, -1, W*H).permute(0, 2, 1)\n",
        "        proj_key   = self.key(x).view(B, -1, W*H)\n",
        "        energy     = torch.bmm(proj_query, proj_key)\n",
        "        attention  = torch.softmax(energy, dim=-1)\n",
        "        proj_value = self.value(x).view(B, -1, W*H)\n",
        "        out = torch.bmm(proj_value, attention.permute(0, 2, 1))\n",
        "        out = out.view(B, C, W, H)\n",
        "        return self.gamma * out + x"
      ],
      "metadata": {
        "id": "i-qFvSMvFGvV"
      },
      "execution_count": 3,
      "outputs": []
    },
    {
      "cell_type": "code",
      "source": [
        "# --- Generator ---\n",
        "class Generator(nn.Module):\n",
        "    def __init__(self, z_dim=100):\n",
        "        super().__init__()\n",
        "        self.gen = nn.Sequential(\n",
        "            nn.ConvTranspose2d(z_dim, 128, 4, 1, 0),\n",
        "            nn.BatchNorm2d(128), nn.ReLU(),\n",
        "            nn.ConvTranspose2d(128, 64, 4, 2, 1),\n",
        "            SelfAttention(64),\n",
        "            nn.BatchNorm2d(64), nn.ReLU(),\n",
        "            nn.ConvTranspose2d(64, 3, 4, 2, 1),\n",
        "            nn.Tanh()\n",
        "        )\n",
        "\n",
        "    def forward(self, x):\n",
        "        return self.gen(x)"
      ],
      "metadata": {
        "id": "gGFQXcb2FKyy"
      },
      "execution_count": 4,
      "outputs": []
    },
    {
      "cell_type": "code",
      "source": [
        "# --- Discriminator ---\n",
        "class Discriminator(nn.Module):\n",
        "    def __init__(self):\n",
        "        super().__init__()\n",
        "        self.features = nn.Sequential(\n",
        "            nn.Conv2d(3, 64, 4, 2, 1),\n",
        "            nn.LeakyReLU(0.2),\n",
        "            SelfAttention(64),\n",
        "            nn.Conv2d(64, 128, 4, 2, 1),\n",
        "            nn.LeakyReLU(0.2),\n",
        "        )\n",
        "        self.classifier = nn.Sequential(\n",
        "            nn.AdaptiveAvgPool2d((1, 1)),\n",
        "            nn.Flatten(),\n",
        "            nn.Linear(128, 1),\n",
        "            nn.Sigmoid()\n",
        "        )\n",
        "\n",
        "    def forward(self, x):\n",
        "        x = self.features(x)\n",
        "        return self.classifier(x)"
      ],
      "metadata": {
        "id": "DAEbL7YwFNlt"
      },
      "execution_count": 5,
      "outputs": []
    },
    {
      "cell_type": "code",
      "source": [
        "# --- Load Dataset ---\n",
        "transform = transforms.Compose([\n",
        "    transforms.Resize(32),\n",
        "    transforms.CenterCrop(32),\n",
        "    transforms.ToTensor(),\n",
        "    transforms.Normalize([0.5]*3, [0.5]*3)\n",
        "])\n",
        "dataset = torchvision.datasets.Flowers102(root=\"./data\", split='train', transform=transform, download=True)\n",
        "loader = DataLoader(dataset, batch_size=64, shuffle=True)\n"
      ],
      "metadata": {
        "id": "caqntv_UFTVg"
      },
      "execution_count": 6,
      "outputs": []
    },
    {
      "cell_type": "code",
      "source": [
        "\n",
        "device = torch.device(\"cuda\" if torch.cuda.is_available() else \"cpu\")\n",
        "gen = Generator().to(device)\n",
        "disc = Discriminator().to(device)\n",
        "opt_gen = torch.optim.Adam(gen.parameters(), lr=2e-4, betas=(0.5, 0.999))\n",
        "opt_disc = torch.optim.Adam(disc.parameters(), lr=2e-4, betas=(0.5, 0.999))\n",
        "criterion = nn.BCELoss()\n",
        "\n",
        "\n",
        "epochs = 10\n",
        "z_dim = 100\n",
        "fixed_noise = torch.randn(16, z_dim, 1, 1).to(device)\n",
        "os.makedirs(\"generated_images\", exist_ok=True)\n",
        "\n",
        "for epoch in range(epochs):\n",
        "    for batch in loader:\n",
        "        imgs, _ = batch\n",
        "        imgs = imgs.to(device)\n",
        "        batch_size = imgs.size(0)\n",
        "\n",
        "        # Labels\n",
        "        real = torch.ones(batch_size, 1).to(device)\n",
        "        fake = torch.zeros(batch_size, 1).to(device)\n",
        "\n",
        "        # --- Train Discriminator ---\n",
        "        noise = torch.randn(batch_size, z_dim, 1, 1).to(device)\n",
        "        fake_imgs = gen(noise)\n",
        "        disc_real = disc(imgs)\n",
        "        disc_fake = disc(fake_imgs.detach())\n",
        "        loss_disc = (criterion(disc_real, real) + criterion(disc_fake, fake)) / 2\n",
        "\n",
        "        opt_disc.zero_grad()\n",
        "        loss_disc.backward()\n",
        "        opt_disc.step()\n",
        "\n",
        "        # --- Train Generator ---\n",
        "        output = disc(fake_imgs)\n",
        "        loss_gen = criterion(output, real)\n",
        "\n",
        "        opt_gen.zero_grad()\n",
        "        loss_gen.backward()\n",
        "        opt_gen.step()\n",
        "\n",
        "    # --- Accuracy Calculation ---\n",
        "    with torch.no_grad():\n",
        "        pred_real = (disc_real > 0.5).float()\n",
        "        pred_fake = (disc_fake < 0.5).float()\n",
        "        correct = torch.sum(pred_real) + torch.sum(pred_fake)\n",
        "        total = 2 * batch_size\n",
        "        disc_acc = (correct / total).item() * 100\n",
        "\n",
        "    print(f\"Epoch [{epoch+1}/{epochs}] Loss D: {loss_disc:.4f}, Loss G: {loss_gen:.4f}, Disc Acc: {disc_acc:.2f}%\")\n",
        "    save_image(gen(fixed_noise), f\"generated_images/epoch_{epoch+1}.png\", normalize=True)\n",
        "\n",
        "\n",
        "torch.save(gen.state_dict(), \"self_attention_generator.pth\")\n",
        "torch.save(disc.state_dict(), \"self_attention_discriminator.pth\")"
      ],
      "metadata": {
        "colab": {
          "base_uri": "https://localhost:8080/"
        },
        "id": "s2eLC3pjFY-z",
        "outputId": "bb523a36-de28-4f92-96f7-5aa42b3ae81c"
      },
      "execution_count": 7,
      "outputs": [
        {
          "output_type": "stream",
          "name": "stdout",
          "text": [
            "Epoch [1/10] Loss D: 0.5536, Loss G: 0.7974, Disc Acc: 99.17%\n",
            "Epoch [2/10] Loss D: 0.4369, Loss G: 1.2314, Disc Acc: 95.00%\n",
            "Epoch [3/10] Loss D: 0.4943, Loss G: 0.9314, Disc Acc: 98.33%\n",
            "Epoch [4/10] Loss D: 0.3436, Loss G: 1.5118, Disc Acc: 96.67%\n",
            "Epoch [5/10] Loss D: 0.5808, Loss G: 0.9315, Disc Acc: 51.67%\n",
            "Epoch [6/10] Loss D: 0.6192, Loss G: 0.9935, Disc Acc: 85.83%\n",
            "Epoch [7/10] Loss D: 0.6688, Loss G: 1.0933, Disc Acc: 75.00%\n",
            "Epoch [8/10] Loss D: 0.4398, Loss G: 1.3019, Disc Acc: 94.17%\n",
            "Epoch [9/10] Loss D: 0.3468, Loss G: 1.4250, Disc Acc: 95.00%\n",
            "Epoch [10/10] Loss D: 0.3338, Loss G: 1.5490, Disc Acc: 90.00%\n"
          ]
        }
      ]
    },
    {
      "cell_type": "code",
      "source": [
        "# --- Evaluation ---\n",
        "def evaluate_model(generator, discriminator, num_samples=500):\n",
        "    generator.eval()\n",
        "    discriminator.eval()\n",
        "    real_labels = []\n",
        "    pred_labels = []\n",
        "\n",
        "    for i, (real_imgs, _) in enumerate(loader):\n",
        "        if i * 64 > num_samples:\n",
        "            break\n",
        "        real_imgs = real_imgs.to(device)\n",
        "        fake_noise = torch.randn(real_imgs.size(0), z_dim, 1, 1).to(device)\n",
        "        fake_imgs = generator(fake_noise)\n",
        "\n",
        "        real_preds = discriminator(real_imgs).detach().cpu().numpy().round()\n",
        "        fake_preds = discriminator(fake_imgs).detach().cpu().numpy().round()\n",
        "\n",
        "        real_labels += [1] * len(real_preds)\n",
        "        pred_labels += list(real_preds.flatten())\n",
        "\n",
        "        real_labels += [0] * len(fake_preds)\n",
        "        pred_labels += list(fake_preds.flatten())\n",
        "\n",
        "    cm = confusion_matrix(real_labels, pred_labels)\n",
        "    precision = precision_score(real_labels, pred_labels)\n",
        "    recall = recall_score(real_labels, pred_labels)\n",
        "    accuracy = accuracy_score(real_labels, pred_labels)\n",
        "    return cm, precision, recall, accuracy\n",
        "\n",
        "\n",
        "conf_matrix, prec, rec, acc = evaluate_model(gen, disc)\n",
        "print(\"\\nFinal Evaluation Metrics:\")\n",
        "print(\"Confusion Matrix:\\n\", conf_matrix)\n",
        "print(\"Precision: {:.4f}\".format(prec))\n",
        "print(\"Recall: {:.4f}\".format(rec))\n",
        "print(\"Accuracy: {:.4f}\".format(acc))"
      ],
      "metadata": {
        "colab": {
          "base_uri": "https://localhost:8080/"
        },
        "id": "AkD7tDFUFiB6",
        "outputId": "de8aae02-c89a-418f-c461-64390d883832"
      },
      "execution_count": 8,
      "outputs": [
        {
          "output_type": "stream",
          "name": "stdout",
          "text": [
            "\n",
            "Final Evaluation Metrics:\n",
            "Confusion Matrix:\n",
            " [[512   0]\n",
            " [ 93 419]]\n",
            "Precision: 1.0000\n",
            "Recall: 0.8184\n",
            "Accuracy: 0.9092\n"
          ]
        }
      ]
    }
  ]
}